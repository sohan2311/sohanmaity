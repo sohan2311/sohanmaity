{
 "cells": [
  {
   "cell_type": "code",
   "execution_count": 1,
   "id": "7732098f",
   "metadata": {},
   "outputs": [
    {
     "name": "stdout",
     "output_type": "stream",
     "text": [
      " Print Hello World !\n"
     ]
    }
   ],
   "source": [
    "message = \" Print Hello World !\"\n",
    "print (message)"
   ]
  },
  {
   "cell_type": "code",
   "execution_count": 3,
   "id": "a3b36585",
   "metadata": {},
   "outputs": [
    {
     "name": "stdout",
     "output_type": "stream",
     "text": [
      "Print\n"
     ]
    }
   ],
   "source": [
    "i = \"Print\"\n",
    "print(i)"
   ]
  },
  {
   "cell_type": "code",
   "execution_count": null,
   "id": "7917fc56",
   "metadata": {},
   "outputs": [],
   "source": []
  }
 ],
 "metadata": {
  "kernelspec": {
   "display_name": "Python 3 (ipykernel)",
   "language": "python",
   "name": "python3"
  },
  "language_info": {
   "codemirror_mode": {
    "name": "ipython",
    "version": 3
   },
   "file_extension": ".py",
   "mimetype": "text/x-python",
   "name": "python",
   "nbconvert_exporter": "python",
   "pygments_lexer": "ipython3",
   "version": "3.10.9"
  }
 },
 "nbformat": 4,
 "nbformat_minor": 5
}
